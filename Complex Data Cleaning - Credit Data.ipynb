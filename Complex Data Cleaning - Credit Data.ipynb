{
 "cells": [
  {
   "cell_type": "markdown",
   "id": "3e4b0eb9",
   "metadata": {},
   "source": [
    "### Data preparation & cleaning of credit data to be used in building models for credit scoring."
   ]
  },
  {
   "cell_type": "code",
   "execution_count": 267,
   "id": "ab5a0ff5-22a1-41f5-b5d1-2c2077b2e7eb",
   "metadata": {},
   "outputs": [
    {
     "name": "stderr",
     "output_type": "stream",
     "text": [
      "C:\\Users\\debod\\AppData\\Local\\Temp\\ipykernel_24228\\607765014.py:3: DtypeWarning: Columns (26) have mixed types. Specify dtype option on import or set low_memory=False.\n",
      "  credit_data=pd.read_csv(\"C:\\\\Users\\\\debod\\\\Downloads\\\\Yetty\\\\Creditdata.csv\")\n"
     ]
    }
   ],
   "source": [
    "import pandas as pd\n",
    "import re\n",
    "credit_data=pd.read_csv(\"C:\\\\Users\\\\debod\\\\Downloads\\\\Yetty\\\\Creditdata.csv\")"
   ]
  },
  {
   "cell_type": "code",
   "execution_count": 268,
   "id": "0c87367e-ab6f-4e43-b466-86e59388fdd6",
   "metadata": {},
   "outputs": [
    {
     "name": "stdout",
     "output_type": "stream",
     "text": [
      "<class 'pandas.core.frame.DataFrame'>\n",
      "RangeIndex: 100000 entries, 0 to 99999\n",
      "Data columns (total 28 columns):\n",
      " #   Column                    Non-Null Count   Dtype  \n",
      "---  ------                    --------------   -----  \n",
      " 0   ID                        100000 non-null  object \n",
      " 1   Customer_ID               100000 non-null  object \n",
      " 2   Month                     100000 non-null  object \n",
      " 3   Name                      90015 non-null   object \n",
      " 4   Age                       100000 non-null  object \n",
      " 5   SSN                       100000 non-null  object \n",
      " 6   Occupation                100000 non-null  object \n",
      " 7   Annual_Income             100000 non-null  object \n",
      " 8   Monthly_Inhand_Salary     84998 non-null   float64\n",
      " 9   Num_Bank_Accounts         100000 non-null  int64  \n",
      " 10  Num_Credit_Card           100000 non-null  int64  \n",
      " 11  Interest_Rate             100000 non-null  int64  \n",
      " 12  Num_of_Loan               100000 non-null  object \n",
      " 13  Type_of_Loan              88592 non-null   object \n",
      " 14  Delay_from_due_date       100000 non-null  int64  \n",
      " 15  Num_of_Delayed_Payment    92998 non-null   object \n",
      " 16  Changed_Credit_Limit      100000 non-null  object \n",
      " 17  Num_Credit_Inquiries      98035 non-null   float64\n",
      " 18  Credit_Mix                100000 non-null  object \n",
      " 19  Outstanding_Debt          100000 non-null  object \n",
      " 20  Credit_Utilization_Ratio  100000 non-null  float64\n",
      " 21  Credit_History_Age        90970 non-null   object \n",
      " 22  Payment_of_Min_Amount     100000 non-null  object \n",
      " 23  Total_EMI_per_month       100000 non-null  float64\n",
      " 24  Amount_invested_monthly   95521 non-null   object \n",
      " 25  Payment_Behaviour         100000 non-null  object \n",
      " 26  Monthly_Balance           98800 non-null   object \n",
      " 27  Credit_Score              100000 non-null  object \n",
      "dtypes: float64(4), int64(4), object(20)\n",
      "memory usage: 21.4+ MB\n"
     ]
    }
   ],
   "source": [
    "credit_data.info()"
   ]
  },
  {
   "cell_type": "code",
   "execution_count": 196,
   "id": "15c3e0e7-3f68-4e55-bccb-d3114280904c",
   "metadata": {},
   "outputs": [
    {
     "data": {
      "text/plain": [
       "array(['23', '-500', '28_', ..., '4808_', '2263', '1342'], dtype=object)"
      ]
     },
     "execution_count": 196,
     "metadata": {},
     "output_type": "execute_result"
    }
   ],
   "source": [
    "credit_data['Age'].unique()"
   ]
  },
  {
   "cell_type": "code",
   "execution_count": 23,
   "id": "5328d5cd-7760-42e4-9b82-bc5d04c903f4",
   "metadata": {},
   "outputs": [],
   "source": []
  },
  {
   "cell_type": "code",
   "execution_count": 269,
   "id": "068bc500-dac4-45e9-bf21-16f58794b571",
   "metadata": {},
   "outputs": [],
   "source": [
    "credit_data[['Age','Annual_Income','Num_of_Loan','Num_of_Delayed_Payment','Changed_Credit_Limit','Outstanding_Debt','Amount_invested_monthly','Monthly_Balance']]=credit_data[['Age','Annual_Income','Num_of_Loan','Num_of_Delayed_Payment','Changed_Credit_Limit','Outstanding_Debt','Amount_invested_monthly','Monthly_Balance']].astype('string')"
   ]
  },
  {
   "cell_type": "code",
   "execution_count": 270,
   "id": "1b9c414e-f5e0-490d-9b8d-a08b803bfff2",
   "metadata": {},
   "outputs": [
    {
     "name": "stdout",
     "output_type": "stream",
     "text": [
      "<class 'pandas.core.frame.DataFrame'>\n",
      "RangeIndex: 100000 entries, 0 to 99999\n",
      "Data columns (total 28 columns):\n",
      " #   Column                    Non-Null Count   Dtype  \n",
      "---  ------                    --------------   -----  \n",
      " 0   ID                        100000 non-null  object \n",
      " 1   Customer_ID               100000 non-null  object \n",
      " 2   Month                     100000 non-null  object \n",
      " 3   Name                      90015 non-null   object \n",
      " 4   Age                       100000 non-null  string \n",
      " 5   SSN                       100000 non-null  object \n",
      " 6   Occupation                100000 non-null  object \n",
      " 7   Annual_Income             100000 non-null  string \n",
      " 8   Monthly_Inhand_Salary     84998 non-null   float64\n",
      " 9   Num_Bank_Accounts         100000 non-null  int64  \n",
      " 10  Num_Credit_Card           100000 non-null  int64  \n",
      " 11  Interest_Rate             100000 non-null  int64  \n",
      " 12  Num_of_Loan               100000 non-null  string \n",
      " 13  Type_of_Loan              88592 non-null   object \n",
      " 14  Delay_from_due_date       100000 non-null  int64  \n",
      " 15  Num_of_Delayed_Payment    92998 non-null   string \n",
      " 16  Changed_Credit_Limit      100000 non-null  string \n",
      " 17  Num_Credit_Inquiries      98035 non-null   float64\n",
      " 18  Credit_Mix                100000 non-null  object \n",
      " 19  Outstanding_Debt          100000 non-null  string \n",
      " 20  Credit_Utilization_Ratio  100000 non-null  float64\n",
      " 21  Credit_History_Age        90970 non-null   object \n",
      " 22  Payment_of_Min_Amount     100000 non-null  object \n",
      " 23  Total_EMI_per_month       100000 non-null  float64\n",
      " 24  Amount_invested_monthly   95521 non-null   string \n",
      " 25  Payment_Behaviour         100000 non-null  object \n",
      " 26  Monthly_Balance           98800 non-null   string \n",
      " 27  Credit_Score              100000 non-null  object \n",
      "dtypes: float64(4), int64(4), object(12), string(8)\n",
      "memory usage: 21.4+ MB\n"
     ]
    }
   ],
   "source": [
    "credit_data.info()"
   ]
  },
  {
   "cell_type": "markdown",
   "id": "45c680db",
   "metadata": {},
   "source": [
    "#### Checking for null"
   ]
  },
  {
   "cell_type": "code",
   "execution_count": 271,
   "id": "ae190907-c2cc-408e-a367-9def03efe47c",
   "metadata": {},
   "outputs": [
    {
     "data": {
      "text/plain": [
       "ID                              0\n",
       "Customer_ID                     0\n",
       "Month                           0\n",
       "Name                         9985\n",
       "Age                             0\n",
       "SSN                             0\n",
       "Occupation                      0\n",
       "Annual_Income                   0\n",
       "Monthly_Inhand_Salary       15002\n",
       "Num_Bank_Accounts               0\n",
       "Num_Credit_Card                 0\n",
       "Interest_Rate                   0\n",
       "Num_of_Loan                     0\n",
       "Type_of_Loan                11408\n",
       "Delay_from_due_date             0\n",
       "Num_of_Delayed_Payment       7002\n",
       "Changed_Credit_Limit            0\n",
       "Num_Credit_Inquiries         1965\n",
       "Credit_Mix                      0\n",
       "Outstanding_Debt                0\n",
       "Credit_Utilization_Ratio        0\n",
       "Credit_History_Age           9030\n",
       "Payment_of_Min_Amount           0\n",
       "Total_EMI_per_month             0\n",
       "Amount_invested_monthly      4479\n",
       "Payment_Behaviour               0\n",
       "Monthly_Balance              1200\n",
       "Credit_Score                    0\n",
       "dtype: int64"
      ]
     },
     "execution_count": 271,
     "metadata": {},
     "output_type": "execute_result"
    }
   ],
   "source": [
    "credit_data.isna().sum()"
   ]
  },
  {
   "cell_type": "code",
   "execution_count": 272,
   "id": "ce16ea2e-e6b7-4491-982f-c10e26f98888",
   "metadata": {},
   "outputs": [],
   "source": [
    "credit_data=credit_data.dropna()"
   ]
  },
  {
   "cell_type": "code",
   "execution_count": null,
   "id": "d76af819",
   "metadata": {},
   "outputs": [],
   "source": []
  },
  {
   "cell_type": "markdown",
   "id": "291a683e",
   "metadata": {},
   "source": [
    "#### Reset index after dropping null values"
   ]
  },
  {
   "cell_type": "code",
   "execution_count": 273,
   "id": "90564e1a-a3bc-4838-934e-596983ef5b10",
   "metadata": {},
   "outputs": [],
   "source": [
    "credit_data.reset_index(inplace=True)"
   ]
  },
  {
   "cell_type": "code",
   "execution_count": 274,
   "id": "b8f4b438-1dde-4bbb-ae25-2625081bf533",
   "metadata": {},
   "outputs": [
    {
     "data": {
      "text/plain": [
       "index                       0\n",
       "ID                          0\n",
       "Customer_ID                 0\n",
       "Month                       0\n",
       "Name                        0\n",
       "Age                         0\n",
       "SSN                         0\n",
       "Occupation                  0\n",
       "Annual_Income               0\n",
       "Monthly_Inhand_Salary       0\n",
       "Num_Bank_Accounts           0\n",
       "Num_Credit_Card             0\n",
       "Interest_Rate               0\n",
       "Num_of_Loan                 0\n",
       "Type_of_Loan                0\n",
       "Delay_from_due_date         0\n",
       "Num_of_Delayed_Payment      0\n",
       "Changed_Credit_Limit        0\n",
       "Num_Credit_Inquiries        0\n",
       "Credit_Mix                  0\n",
       "Outstanding_Debt            0\n",
       "Credit_Utilization_Ratio    0\n",
       "Credit_History_Age          0\n",
       "Payment_of_Min_Amount       0\n",
       "Total_EMI_per_month         0\n",
       "Amount_invested_monthly     0\n",
       "Payment_Behaviour           0\n",
       "Monthly_Balance             0\n",
       "Credit_Score                0\n",
       "dtype: int64"
      ]
     },
     "execution_count": 274,
     "metadata": {},
     "output_type": "execute_result"
    }
   ],
   "source": [
    "credit_data.isna().sum()"
   ]
  },
  {
   "cell_type": "code",
   "execution_count": 275,
   "id": "a18cea40-370b-4c6a-a258-9a9d7175a746",
   "metadata": {},
   "outputs": [
    {
     "name": "stdout",
     "output_type": "stream",
     "text": [
      "<class 'pandas.core.frame.DataFrame'>\n",
      "RangeIndex: 53049 entries, 0 to 53048\n",
      "Data columns (total 29 columns):\n",
      " #   Column                    Non-Null Count  Dtype  \n",
      "---  ------                    --------------  -----  \n",
      " 0   index                     53049 non-null  int64  \n",
      " 1   ID                        53049 non-null  object \n",
      " 2   Customer_ID               53049 non-null  object \n",
      " 3   Month                     53049 non-null  object \n",
      " 4   Name                      53049 non-null  object \n",
      " 5   Age                       53049 non-null  string \n",
      " 6   SSN                       53049 non-null  object \n",
      " 7   Occupation                53049 non-null  object \n",
      " 8   Annual_Income             53049 non-null  string \n",
      " 9   Monthly_Inhand_Salary     53049 non-null  float64\n",
      " 10  Num_Bank_Accounts         53049 non-null  int64  \n",
      " 11  Num_Credit_Card           53049 non-null  int64  \n",
      " 12  Interest_Rate             53049 non-null  int64  \n",
      " 13  Num_of_Loan               53049 non-null  string \n",
      " 14  Type_of_Loan              53049 non-null  object \n",
      " 15  Delay_from_due_date       53049 non-null  int64  \n",
      " 16  Num_of_Delayed_Payment    53049 non-null  string \n",
      " 17  Changed_Credit_Limit      53049 non-null  string \n",
      " 18  Num_Credit_Inquiries      53049 non-null  float64\n",
      " 19  Credit_Mix                53049 non-null  object \n",
      " 20  Outstanding_Debt          53049 non-null  string \n",
      " 21  Credit_Utilization_Ratio  53049 non-null  float64\n",
      " 22  Credit_History_Age        53049 non-null  object \n",
      " 23  Payment_of_Min_Amount     53049 non-null  object \n",
      " 24  Total_EMI_per_month       53049 non-null  float64\n",
      " 25  Amount_invested_monthly   53049 non-null  string \n",
      " 26  Payment_Behaviour         53049 non-null  object \n",
      " 27  Monthly_Balance           53049 non-null  string \n",
      " 28  Credit_Score              53049 non-null  object \n",
      "dtypes: float64(4), int64(5), object(12), string(8)\n",
      "memory usage: 11.7+ MB\n"
     ]
    }
   ],
   "source": [
    "credit_data.info()"
   ]
  },
  {
   "cell_type": "code",
   "execution_count": null,
   "id": "47106652-440d-4e50-a852-404ee38af59a",
   "metadata": {},
   "outputs": [],
   "source": []
  },
  {
   "cell_type": "markdown",
   "id": "ad7658aa",
   "metadata": {},
   "source": [
    "#### Data Cleaning - Removing spaces & symbols found between numbers"
   ]
  },
  {
   "cell_type": "code",
   "execution_count": 276,
   "id": "bdb67760-180c-4782-94e3-2df25a9d9bdc",
   "metadata": {},
   "outputs": [],
   "source": [
    "credit_data['Age']=credit_data['Age'].apply(lambda x:re.sub('[^0-9]', '', x))\n",
    "credit_data['Annual_Income']=credit_data['Annual_Income'].apply(lambda x:re.sub('[^0-9]', '', x))\n",
    "credit_data['Num_of_Loan']=credit_data['Num_of_Loan'].apply(lambda x:re.sub('[^0-9]', '', x))\n",
    "credit_data['Num_of_Delayed_Payment']=credit_data['Num_of_Delayed_Payment'].apply(lambda x:re.sub('[^0-9]', '', x))\n",
    "credit_data['Changed_Credit_Limit']=credit_data['Changed_Credit_Limit'].apply(lambda x:re.sub('[^0-9]', '', x))\n",
    "credit_data['Outstanding_Debt']=credit_data['Outstanding_Debt'].apply(lambda x:re.sub('[^0-9]', '', x))\n",
    "credit_data['Amount_invested_monthly']=credit_data['Amount_invested_monthly'].apply(lambda x:re.sub('[^0-9]', '', x))\n",
    "credit_data['Monthly_Balance']=credit_data['Monthly_Balance'].apply(lambda x:re.sub('[^0-9]', '', x))"
   ]
  },
  {
   "cell_type": "code",
   "execution_count": 277,
   "id": "ae9c7aa1-4208-42c1-b982-5ff2c2a4165d",
   "metadata": {},
   "outputs": [
    {
     "data": {
      "text/plain": [
       "array(['23', '28', '34', ..., '8425', '2263', '1342'], dtype=object)"
      ]
     },
     "execution_count": 277,
     "metadata": {},
     "output_type": "execute_result"
    }
   ],
   "source": [
    "credit_data['Age'].unique()"
   ]
  },
  {
   "cell_type": "code",
   "execution_count": 184,
   "id": "67393497-4519-4ace-a7f6-5325e48158d8",
   "metadata": {},
   "outputs": [
    {
     "data": {
      "text/plain": [
       "array(['1911412', '3484784', '14316264', ..., '371881', '2000288',\n",
       "       '3962899'], dtype=object)"
      ]
     },
     "execution_count": 184,
     "metadata": {},
     "output_type": "execute_result"
    }
   ],
   "source": [
    "credit_data['Annual_Income'].unique()"
   ]
  },
  {
   "cell_type": "code",
   "execution_count": null,
   "id": "c81ccb77-6c6f-4f5b-aa7a-c315e1ccab1f",
   "metadata": {},
   "outputs": [],
   "source": []
  },
  {
   "cell_type": "markdown",
   "id": "1e65c59d",
   "metadata": {},
   "source": [
    "#### Changing Dtypes"
   ]
  },
  {
   "cell_type": "code",
   "execution_count": 278,
   "id": "8d449091-7bfb-4eb3-a7e2-b9bcc972ba14",
   "metadata": {},
   "outputs": [
    {
     "name": "stdout",
     "output_type": "stream",
     "text": [
      "Non-numeric values in 'Changed_Credit_Limit':\n",
      "       index       ID Customer_ID     Month                Name   Age  \\\n",
      "28        65   0x1663  CUS_0x4157  February        Charlie Zhur    23   \n",
      "113      248   0x1776  CUS_0x6048   January             Ayeshaz    43   \n",
      "116      254   0x177c  CUS_0x6048      July             Ayeshaz    43   \n",
      "169      364   0x1822  CUS_0x8e9b       May  Rachelle Younglaic    16   \n",
      "218      470   0x18c0  CUS_0x47db      July              Granto    16   \n",
      "...      ...      ...         ...       ...                 ...   ...   \n",
      "52778  99453  0x25cbb  CUS_0x3397      June               Sveap    45   \n",
      "52792  99483  0x25ce9  CUS_0x862b     April      Edward Taylorc    44   \n",
      "52808  99509  0x25d0f  CUS_0x504e      June              Emilyf    17   \n",
      "52858  99618  0x25db4  CUS_0xae66     March                Jino  7490   \n",
      "53014  99931  0x25f89  CUS_0xb11c     April      Yinka Adegokej    38   \n",
      "\n",
      "               SSN    Occupation     Annual_Income  Monthly_Inhand_Salary  \\\n",
      "28     070-19-1622        Doctor          11483841            9843.867500   \n",
      "113    425-47-6723      Musician           1862764            1387.303333   \n",
      "116    425-47-6723      Musician           1862764            1387.303333   \n",
      "169    925-51-5335  Entrepreneur           5582979            4369.482500   \n",
      "218    507-34-4117      Musician           7898848            6449.373333   \n",
      "...            ...           ...               ...                    ...   \n",
      "52778  097-59-6601     Developer           3980036            3097.696667   \n",
      "52792  710-51-5469       Manager          14528224           12154.853333   \n",
      "52808  569-84-9250    Accountant  7257245999999999            6233.705000   \n",
      "52858  721-45-4479        Writer          14256036           11773.030000   \n",
      "53014  546-94-4789       Manager           1531965            1460.637500   \n",
      "\n",
      "       ...  Credit_Mix  Outstanding_Debt  Credit_Utilization_Ratio  \\\n",
      "28     ...        Good            137774                 27.626325   \n",
      "113    ...         Bad            179354                 38.979661   \n",
      "116    ...         Bad            179354                 23.245482   \n",
      "169    ...         Bad            342249                 38.025685   \n",
      "218    ...         Bad             17469                 38.163571   \n",
      "...    ...         ...               ...                       ...   \n",
      "52778  ...           _            424152                 23.405996   \n",
      "52792  ...           _            141724                 41.893673   \n",
      "52808  ...    Standard            132146                 39.578007   \n",
      "52858  ...    Standard             22075                 35.576245   \n",
      "53014  ...         Bad            145361                 34.243058   \n",
      "\n",
      "          Credit_History_Age Payment_of_Min_Amount  Total_EMI_per_month  \\\n",
      "28     21 Years and 5 Months                    NM           226.892792   \n",
      "113    18 Years and 9 Months                    NM            65.139488   \n",
      "116    19 Years and 3 Months                   Yes            65.139488   \n",
      "169    10 Years and 9 Months                   Yes           314.901785   \n",
      "218    10 Years and 7 Months                    NM           291.782760   \n",
      "...                      ...                   ...                  ...   \n",
      "52778   1 Years and 3 Months                   Yes           252.255601   \n",
      "52792  23 Years and 5 Months                    NM           104.351443   \n",
      "52808  20 Years and 3 Months                   Yes           176.374432   \n",
      "52858  17 Years and 5 Months                    No            76.772094   \n",
      "53014  11 Years and 0 Months                   Yes            28.182033   \n",
      "\n",
      "      Amount_invested_monthly                 Payment_Behaviour  \\\n",
      "28          21223560220847847   High_spent_Large_value_payments   \n",
      "113          4843998334767114  High_spent_Medium_value_payments   \n",
      "116         10422797957897026    Low_spent_Small_value_payments   \n",
      "169         18204655003168392   High_spent_Small_value_payments   \n",
      "218          4563694644918271   Low_spent_Medium_value_payments   \n",
      "...                       ...                               ...   \n",
      "52778        6677488716208742  High_spent_Medium_value_payments   \n",
      "52792        3894023507145877  High_spent_Medium_value_payments   \n",
      "52808        7646379642912784                            !@9#%8   \n",
      "52858        1947874766731884   High_spent_Large_value_payments   \n",
      "53014                      00   High_spent_Large_value_payments   \n",
      "\n",
      "         Monthly_Balance Credit_Score  \n",
      "28      7852583558699787         Good  \n",
      "113    27515086221005004         Poor  \n",
      "116    25936286597875085         Poor  \n",
      "169    19999991470063443     Standard  \n",
      "218    17678510849935338         Poor  \n",
      "...                  ...          ...  \n",
      "52778  24073917874836985     Standard  \n",
      "52792   9717315394593352         Poor  \n",
      "52808   6105322719336395     Standard  \n",
      "52858  11457434294028362     Standard  \n",
      "53014  34808838343284464     Standard  \n",
      "\n",
      "[1102 rows x 29 columns]\n"
     ]
    }
   ],
   "source": [
    "non_numeric_values=credit_data[~credit_data['Changed_Credit_Limit'].str.isnumeric()]\n",
    "['Changed_Credit_Limit']\n",
    "print(\"Non-numeric values in 'Changed_Credit_Limit':\")\n",
    "print(non_numeric_values)"
   ]
  },
  {
   "cell_type": "code",
   "execution_count": 279,
   "id": "e67bf754-4d30-430f-8b6f-455e16ed50e8",
   "metadata": {},
   "outputs": [],
   "source": [
    "credit_data['Changed_Credit_Limit'] = pd.to_numeric(credit_data['Changed_Credit_Limit'], errors='coerce')"
   ]
  },
  {
   "cell_type": "code",
   "execution_count": 280,
   "id": "61f3d6aa-12b6-4c31-8362-9426efe18588",
   "metadata": {},
   "outputs": [],
   "source": [
    "credit_data.dropna(subset=['Changed_Credit_Limit'], inplace=True)"
   ]
  },
  {
   "cell_type": "code",
   "execution_count": 281,
   "id": "7e2fa3f1-9b8f-4887-abbc-4513f4413adb",
   "metadata": {},
   "outputs": [],
   "source": [
    "credit_data.reset_index(inplace=True)"
   ]
  },
  {
   "cell_type": "markdown",
   "id": "6564c83b",
   "metadata": {},
   "source": []
  },
  {
   "cell_type": "code",
   "execution_count": 282,
   "id": "02578099-8ec4-454e-b7a2-d6f5f8e3c266",
   "metadata": {},
   "outputs": [
    {
     "name": "stdout",
     "output_type": "stream",
     "text": [
      "<class 'pandas.core.frame.DataFrame'>\n",
      "RangeIndex: 51947 entries, 0 to 51946\n",
      "Data columns (total 30 columns):\n",
      " #   Column                    Non-Null Count  Dtype  \n",
      "---  ------                    --------------  -----  \n",
      " 0   level_0                   51947 non-null  int64  \n",
      " 1   index                     51947 non-null  int64  \n",
      " 2   ID                        51947 non-null  object \n",
      " 3   Customer_ID               51947 non-null  object \n",
      " 4   Month                     51947 non-null  object \n",
      " 5   Name                      51947 non-null  object \n",
      " 6   Age                       51947 non-null  object \n",
      " 7   SSN                       51947 non-null  object \n",
      " 8   Occupation                51947 non-null  object \n",
      " 9   Annual_Income             51947 non-null  object \n",
      " 10  Monthly_Inhand_Salary     51947 non-null  float64\n",
      " 11  Num_Bank_Accounts         51947 non-null  int64  \n",
      " 12  Num_Credit_Card           51947 non-null  int64  \n",
      " 13  Interest_Rate             51947 non-null  int64  \n",
      " 14  Num_of_Loan               51947 non-null  object \n",
      " 15  Type_of_Loan              51947 non-null  object \n",
      " 16  Delay_from_due_date       51947 non-null  int64  \n",
      " 17  Num_of_Delayed_Payment    51947 non-null  object \n",
      " 18  Changed_Credit_Limit      51947 non-null  float64\n",
      " 19  Num_Credit_Inquiries      51947 non-null  float64\n",
      " 20  Credit_Mix                51947 non-null  object \n",
      " 21  Outstanding_Debt          51947 non-null  object \n",
      " 22  Credit_Utilization_Ratio  51947 non-null  float64\n",
      " 23  Credit_History_Age        51947 non-null  object \n",
      " 24  Payment_of_Min_Amount     51947 non-null  object \n",
      " 25  Total_EMI_per_month       51947 non-null  float64\n",
      " 26  Amount_invested_monthly   51947 non-null  object \n",
      " 27  Payment_Behaviour         51947 non-null  object \n",
      " 28  Monthly_Balance           51947 non-null  object \n",
      " 29  Credit_Score              51947 non-null  object \n",
      "dtypes: float64(5), int64(6), object(19)\n",
      "memory usage: 11.9+ MB\n"
     ]
    }
   ],
   "source": [
    "credit_data.info()"
   ]
  },
  {
   "cell_type": "code",
   "execution_count": 283,
   "id": "04d88efb-43d7-419a-abc5-7cc24fa652e0",
   "metadata": {},
   "outputs": [],
   "source": [
    "columns_to_convert = ['Age','Annual_Income','Num_of_Loan','Num_of_Delayed_Payment','Changed_Credit_Limit','Outstanding_Debt','Amount_invested_monthly','Monthly_Balance']"
   ]
  },
  {
   "cell_type": "code",
   "execution_count": 284,
   "id": "f44cfec5-329a-4cd5-bbc3-4b7f0a0b5ce5",
   "metadata": {},
   "outputs": [],
   "source": [
    "for col in columns_to_convert:\n",
    "    credit_data[col] = pd.to_numeric(credit_data[col], errors='coerce')"
   ]
  },
  {
   "cell_type": "code",
   "execution_count": null,
   "id": "93f842de",
   "metadata": {},
   "outputs": [],
   "source": []
  },
  {
   "cell_type": "markdown",
   "id": "2ec04905",
   "metadata": {},
   "source": [
    "##### Cleaned data with correct data types"
   ]
  },
  {
   "cell_type": "code",
   "execution_count": 285,
   "id": "5eec8f47-8ba9-4d39-ab26-6dd5df8600c7",
   "metadata": {},
   "outputs": [
    {
     "name": "stdout",
     "output_type": "stream",
     "text": [
      "<class 'pandas.core.frame.DataFrame'>\n",
      "RangeIndex: 51947 entries, 0 to 51946\n",
      "Data columns (total 30 columns):\n",
      " #   Column                    Non-Null Count  Dtype  \n",
      "---  ------                    --------------  -----  \n",
      " 0   level_0                   51947 non-null  int64  \n",
      " 1   index                     51947 non-null  int64  \n",
      " 2   ID                        51947 non-null  object \n",
      " 3   Customer_ID               51947 non-null  object \n",
      " 4   Month                     51947 non-null  object \n",
      " 5   Name                      51947 non-null  object \n",
      " 6   Age                       51947 non-null  int64  \n",
      " 7   SSN                       51947 non-null  object \n",
      " 8   Occupation                51947 non-null  object \n",
      " 9   Annual_Income             51947 non-null  int64  \n",
      " 10  Monthly_Inhand_Salary     51947 non-null  float64\n",
      " 11  Num_Bank_Accounts         51947 non-null  int64  \n",
      " 12  Num_Credit_Card           51947 non-null  int64  \n",
      " 13  Interest_Rate             51947 non-null  int64  \n",
      " 14  Num_of_Loan               51947 non-null  int64  \n",
      " 15  Type_of_Loan              51947 non-null  object \n",
      " 16  Delay_from_due_date       51947 non-null  int64  \n",
      " 17  Num_of_Delayed_Payment    51947 non-null  int64  \n",
      " 18  Changed_Credit_Limit      51947 non-null  float64\n",
      " 19  Num_Credit_Inquiries      51947 non-null  float64\n",
      " 20  Credit_Mix                51947 non-null  object \n",
      " 21  Outstanding_Debt          51947 non-null  int64  \n",
      " 22  Credit_Utilization_Ratio  51947 non-null  float64\n",
      " 23  Credit_History_Age        51947 non-null  object \n",
      " 24  Payment_of_Min_Amount     51947 non-null  object \n",
      " 25  Total_EMI_per_month       51947 non-null  float64\n",
      " 26  Amount_invested_monthly   51947 non-null  int64  \n",
      " 27  Payment_Behaviour         51947 non-null  object \n",
      " 28  Monthly_Balance           51947 non-null  float64\n",
      " 29  Credit_Score              51947 non-null  object \n",
      "dtypes: float64(6), int64(12), object(12)\n",
      "memory usage: 11.9+ MB\n"
     ]
    }
   ],
   "source": [
    "credit_data.info()"
   ]
  },
  {
   "cell_type": "code",
   "execution_count": 286,
   "id": "22824dab-2457-465b-ab25-624c2363abe0",
   "metadata": {},
   "outputs": [],
   "source": [
    "credit_data.to_pickle('C:\\\\Users\\\\debod\\\\Downloads\\\\Yetty\\\\credit_data_cleaneddddd.pkl')"
   ]
  },
  {
   "cell_type": "code",
   "execution_count": null,
   "id": "067165f6-7ff3-437b-97f9-92c675617f4a",
   "metadata": {},
   "outputs": [],
   "source": []
  }
 ],
 "metadata": {
  "kernelspec": {
   "display_name": "Python 3 (ipykernel)",
   "language": "python",
   "name": "python3"
  },
  "language_info": {
   "codemirror_mode": {
    "name": "ipython",
    "version": 3
   },
   "file_extension": ".py",
   "mimetype": "text/x-python",
   "name": "python",
   "nbconvert_exporter": "python",
   "pygments_lexer": "ipython3",
   "version": "3.10.9"
  }
 },
 "nbformat": 4,
 "nbformat_minor": 5
}
